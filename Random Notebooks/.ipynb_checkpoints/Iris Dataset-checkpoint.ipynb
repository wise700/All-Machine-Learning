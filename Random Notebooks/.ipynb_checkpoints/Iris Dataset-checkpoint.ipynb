{
 "cells": [
  {
   "cell_type": "code",
   "execution_count": null,
   "metadata": {
    "collapsed": false
   },
   "outputs": [],
   "source": [
    "from sklearn import datasets\n",
    "import matplotlib.pyplot as plt\n",
    "import numpy as np\n",
    "import pandas as pd\n",
    "\n",
    "iris=datasets.load_iris()\n",
    "x=iris.data\n",
    "y=iris.target\n",
    "\n",
    "plt.scatter(x[:,0],x[:,1])\n",
    "plt.xlabel('Sepal width')\n",
    "plt.ylabel('Sepal height')\n",
    "plt.show()\n",
    "\n",
    "# Create a regular PCA model \n",
    "pca = PCA(n_components=2)\n",
    "\n",
    "# Fit and transform the data to the model\n",
    "reduced_data_pca = pca.fit_transform(x)\n"
   ]
  }
 ],
 "metadata": {
  "anaconda-cloud": {},
  "kernelspec": {
   "display_name": "Python [default]",
   "language": "python",
   "name": "python3"
  },
  "language_info": {
   "codemirror_mode": {
    "name": "ipython",
    "version": 3
   },
   "file_extension": ".py",
   "mimetype": "text/x-python",
   "name": "python",
   "nbconvert_exporter": "python",
   "pygments_lexer": "ipython3",
   "version": "3.5.2"
  }
 },
 "nbformat": 4,
 "nbformat_minor": 1
}
