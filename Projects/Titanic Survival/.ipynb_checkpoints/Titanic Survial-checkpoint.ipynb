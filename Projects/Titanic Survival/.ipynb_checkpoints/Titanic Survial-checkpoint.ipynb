{
 "cells": [
  {
   "cell_type": "code",
   "execution_count": 19,
   "metadata": {
    "collapsed": false
   },
   "outputs": [
    {
     "name": "stdout",
     "output_type": "stream",
     "text": [
      "0.7420382165605095\n",
      "0.18890814558058924\n",
      "Survived    0    1\n",
      "Sex               \n",
      "female     81  233\n",
      "male      468  109\n",
      "Survived         0         1\n",
      "Sex                         \n",
      "female    0.257962  0.742038\n",
      "male      0.811092  0.188908\n"
     ]
    },
    {
     "data": {
      "text/plain": [
       "<matplotlib.axes._subplots.AxesSubplot at 0x3601d8bc50>"
      ]
     },
     "execution_count": 19,
     "metadata": {},
     "output_type": "execute_result"
    }
   ],
   "source": [
    "import pandas as pd\n",
    "\n",
    "test=pd.read_csv(r'data\\test.csv')\n",
    "\n",
    "train=pd.read_csv(r'data\\train.csv')\n",
    "\n",
    "#print(train.head())\n",
    "# exploratory analysis, seeing survival rate for females and males\n",
    "# Basic\n",
    "femaleDF=train.loc[train['Sex']=='female']\n",
    "ff=femaleDF.loc[femaleDF['Survived']==1]\n",
    "\n",
    "print(len(ff.index)/len(femaleDF.index))\n",
    "\n",
    "maleDF=train.loc[train['Sex']=='male']\n",
    "mm=maleDF.loc[maleDF['Survived']==1]\n",
    "\n",
    "print(len(mm.index)/len(maleDF.index))\n",
    "\n",
    "#Advanced Method to plot survival rate by gender\n",
    "gender_survival=pd.crosstab(train['Sex'],train['Survived'])\n",
    "print(gender_survival)\n",
    "gender_survival_pct = gender_survival.div(gender_survival.sum(1).astype(float), axis=0)\n",
    "print(gender_survival_pct)\n",
    "\n",
    "gender_survival_pct.plot(kind='bar')\n"
   ]
  }
 ],
 "metadata": {
  "anaconda-cloud": {},
  "kernelspec": {
   "display_name": "Python [conda root]",
   "language": "python",
   "name": "conda-root-py"
  },
  "language_info": {
   "codemirror_mode": {
    "name": "ipython",
    "version": 3
   },
   "file_extension": ".py",
   "mimetype": "text/x-python",
   "name": "python",
   "nbconvert_exporter": "python",
   "pygments_lexer": "ipython3",
   "version": "3.5.2"
  }
 },
 "nbformat": 4,
 "nbformat_minor": 1
}
