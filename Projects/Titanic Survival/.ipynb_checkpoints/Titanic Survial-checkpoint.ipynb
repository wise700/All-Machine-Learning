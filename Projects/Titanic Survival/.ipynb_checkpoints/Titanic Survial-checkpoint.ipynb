{
 "cells": [
  {
   "cell_type": "code",
   "execution_count": 71,
   "metadata": {
    "collapsed": false
   },
   "outputs": [
    {
     "name": "stdout",
     "output_type": "stream",
     "text": [
      "0.7420382165605095\n",
      "0.18890814558058924\n",
      "Survived    0    1\n",
      "Embarked          \n",
      "C          75   93\n",
      "Q          47   30\n",
      "S         427  217\n",
      "Survived         0         1\n",
      "Embarked                    \n",
      "C         0.446429  0.553571\n",
      "Q         0.610390  0.389610\n",
      "S         0.663043  0.336957\n"
     ]
    },
    {
     "data": {
      "text/plain": [
       "<matplotlib.axes._subplots.AxesSubplot at 0x3c97bf198>"
      ]
     },
     "execution_count": 71,
     "metadata": {},
     "output_type": "execute_result"
    },
    {
     "data": {
      "image/png": "[encoded data removed]",
      "text/plain": [
       "<matplotlib.figure.Figure at 0x3c857c710>"
      ]
     },
     "metadata": {},
     "output_type": "display_data"
    }
   ],
   "source": [
    "import pandas as pd\n",
    "\n",
    "test=pd.read_csv(r'data\\test.csv')\n",
    "\n",
    "train=pd.read_csv(r'data\\train.csv')\n",
    "\n",
    "#print(train.head())\n",
    "# exploratory analysis, seeing survival rate for females and males\n",
    "# Basic\n",
    "femaleDF=train.loc[train['Sex']=='female']\n",
    "ff=femaleDF.loc[femaleDF['Survived']==1]\n",
    "\n",
    "print(len(ff.index)/len(femaleDF.index))\n",
    "\n",
    "maleDF=train.loc[train['Sex']=='male']\n",
    "mm=maleDF.loc[maleDF['Survived']==1]\n",
    "\n",
    "print(len(mm.index)/len(maleDF.index))\n",
    "\n",
    "#Advanced Method to plot survival rate by gender\n",
    "gender_survival=pd.crosstab(train['Embarked'],train['Survived'])\n",
    "print(gender_survival)\n",
    "gender_survival_pct = gender_survival.div(gender_survival.sum(1).astype(float), axis=0)\n",
    "print(gender_survival_pct)\n",
    "%matplotlib inline\n",
    "gender_survival_pct.plot(kind='bar',stacked=True)\n"
   ]
  },
  {
   "cell_type": "code",
   "execution_count": 72,
   "metadata": {
    "collapsed": false,
    "scrolled": true
   },
   "outputs": [
    {
     "name": "stdout",
     "output_type": "stream",
     "text": [
      "Survived    0    1\n",
      "Fare              \n",
      "0         189   52\n",
      "1         137   59\n",
      "2         148  108\n",
      "3          75  123\n"
     ]
    },
    {
     "data": {
      "text/plain": [
       "<matplotlib.axes._subplots.AxesSubplot at 0x3c97c2550>"
      ]
     },
     "execution_count": 72,
     "metadata": {},
     "output_type": "execute_result"
    },
    {
     "data": {
      "image/png": "[encoded data removed]",
      "text/plain": [
       "<matplotlib.figure.Figure at 0x3c97ba860>"
      ]
     },
     "metadata": {},
     "output_type": "display_data"
    }
   ],
   "source": [
    "# Checking for null values\n",
    "# #printing rows where Age is null\n",
    "#print(train[train['Age'].isnull()].count())\n",
    "\n",
    "#Fill NaN ages with the average age\n",
    "\n",
    "train['Age']=train['Age'].fillna(train['Age'].mean())\n",
    "train['Embarked']=train['Embarked'].fillna('S')\n",
    "\n",
    "\n",
    "#Fare cloumn is split in buckets 0,1,2 and 3\n",
    "train.loc[train['Fare']<8,'Fare']=0\n",
    "train.loc[(train['Fare']>8)&(train['Fare']<=14),'Fare']=1\n",
    "train.loc[(train['Fare']>14)&(train['Fare']<=35),'Fare']=2\n",
    "train.loc[train['Fare']>35,'Fare']=3\n",
    "\n",
    "# convert from float to int\n",
    "train['Fare']=train['Fare'].astype(int)\n",
    "\n",
    "Fare_Survival=pd.crosstab(train['Fare'],train['Survived'])\n",
    "Fare_Survival_pct=Fare_Survival.div(Fare_Survival.sum(1).astype(int),axis=0)\n",
    "\n",
    "%matplotlib inline\n",
    "Fare_Survival_pct.plot(kind='bar',stacked=True)\n",
    "\n",
    "#Aha, people who paid more had higher % of surviving\n"
   ]
  }
 ],
 "metadata": {
  "anaconda-cloud": {},
  "kernelspec": {
   "display_name": "Python [conda root]",
   "language": "python",
   "name": "conda-root-py"
  },
  "language_info": {
   "codemirror_mode": {
    "name": "ipython",
    "version": 3
   },
   "file_extension": ".py",
   "mimetype": "text/x-python",
   "name": "python",
   "nbconvert_exporter": "python",
   "pygments_lexer": "ipython3",
   "version": "3.5.2"
  }
 },
 "nbformat": 4,
 "nbformat_minor": 1
}
