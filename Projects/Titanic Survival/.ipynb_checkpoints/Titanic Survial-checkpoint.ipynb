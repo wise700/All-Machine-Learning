{
 "cells": [
  {
   "cell_type": "code",
   "execution_count": 251,
   "metadata": {
    "collapsed": false
   },
   "outputs": [
    {
     "name": "stdout",
     "output_type": "stream",
     "text": [
      "0.7420382165605095\n",
      "0.18890814558058924\n",
      "Survived    0    1\n",
      "Embarked          \n",
      "C          75   93\n",
      "Q          47   30\n",
      "S         427  217\n",
      "Survived         0         1\n",
      "Embarked                    \n",
      "C         0.446429  0.553571\n",
      "Q         0.610390  0.389610\n",
      "S         0.663043  0.336957\n"
     ]
    },
    {
     "data": {
      "text/plain": [
       "<matplotlib.axes._subplots.AxesSubplot at 0x3d25dc7f0>"
      ]
     },
     "execution_count": 251,
     "metadata": {},
     "output_type": "execute_result"
    },
    {
     "data": {
      "image/png": "[encoded data removed]",
      "text/plain": [
       "<matplotlib.figure.Figure at 0x3d2529860>"
      ]
     },
     "metadata": {},
     "output_type": "display_data"
    }
   ],
   "source": [
    "import pandas as pd\n",
    "\n",
    "\n",
    "# machine learning\n",
    "from sklearn.preprocessing import OneHotEncoder\n",
    "from sklearn.linear_model import LogisticRegression\n",
    "from sklearn.svm import SVC, LinearSVC\n",
    "from sklearn.ensemble import RandomForestClassifier\n",
    "from sklearn.ensemble import GradientBoostingClassifier\n",
    "from sklearn.ensemble import ExtraTreesClassifier\n",
    "from sklearn.ensemble import AdaBoostClassifier\n",
    "from sklearn.neighbors import KNeighborsClassifier\n",
    "from sklearn.naive_bayes import GaussianNB\n",
    "import sklearn\n",
    "\n",
    "test=pd.read_csv(r'data\\test.csv')\n",
    "\n",
    "train=pd.read_csv(r'data\\train.csv')\n",
    "\n",
    "#print(train.head())\n",
    "# exploratory analysis, seeing survival rate for females and males\n",
    "# Basic\n",
    "femaleDF=train.loc[train['Sex']=='female']\n",
    "ff=femaleDF.loc[femaleDF['Survived']==1]\n",
    "\n",
    "print(len(ff.index)/len(femaleDF.index))\n",
    "\n",
    "maleDF=train.loc[train['Sex']=='male']\n",
    "mm=maleDF.loc[maleDF['Survived']==1]\n",
    "\n",
    "print(len(mm.index)/len(maleDF.index))\n",
    "\n",
    "#Advanced Method to plot survival rate by gender\n",
    "gender_survival=pd.crosstab(train['Embarked'],train['Survived'])\n",
    "print(gender_survival)\n",
    "gender_survival_pct = gender_survival.div(gender_survival.sum(1).astype(float), axis=0)\n",
    "print(gender_survival_pct)\n",
    "%matplotlib inline\n",
    "gender_survival_pct.plot(kind='bar',stacked=True)\n"
   ]
  },
  {
   "cell_type": "code",
   "execution_count": 252,
   "metadata": {
    "collapsed": false,
    "scrolled": true
   },
   "outputs": [
    {
     "name": "stdout",
     "output_type": "stream",
     "text": [
      "Survived    0    1\n",
      "Fare              \n",
      "0         189   52\n",
      "1         137   59\n",
      "2         148  108\n",
      "3          75  123\n"
     ]
    },
    {
     "data": {
      "text/plain": [
       "<matplotlib.axes._subplots.AxesSubplot at 0x3d2655400>"
      ]
     },
     "execution_count": 252,
     "metadata": {},
     "output_type": "execute_result"
    },
    {
     "data": {
      "image/png": "[encoded data removed]",
      "text/plain": [
       "<matplotlib.figure.Figure at 0x3d25d7f60>"
      ]
     },
     "metadata": {},
     "output_type": "display_data"
    }
   ],
   "source": [
    "# Checking for null values\n",
    "# #printing rows where Age is null\n",
    "#print(train[train['Age'].isnull()].count())\n",
    "\n",
    "#Fill NaN ages with the average age\n",
    "\n",
    "train['Age']=train['Age'].fillna(train['Age'].mean())\n",
    "train['Embarked']=train['Embarked'].fillna('S')\n",
    "\n",
    "\n",
    "#Fare cloumn is split in buckets 0,1,2 and 3\n",
    "train.loc[train['Fare']<8,'Fare']=0\n",
    "train.loc[(train['Fare']>8)&(train['Fare']<=14),'Fare']=1\n",
    "train.loc[(train['Fare']>14)&(train['Fare']<=35),'Fare']=2\n",
    "train.loc[train['Fare']>35,'Fare']=3\n",
    "\n",
    "test['Fare']=test['Fare'].fillna(test['Fare'].mean())\n",
    "#Same for test set\n",
    "test.loc[test['Fare']<8,'Fare']=0\n",
    "test.loc[(test['Fare']>8)&(test['Fare']<=14),'Fare']=1\n",
    "test.loc[(test['Fare']>14)&(test['Fare']<=35),'Fare']=2\n",
    "test.loc[test['Fare']>35,'Fare']=3\n",
    "\n",
    "# convert from float to int\n",
    "train['Fare']=train['Fare'].astype(int)\n",
    "\n",
    "\n",
    "#Age coulmn\n",
    "train['Age']=train['Age'].fillna(train['Age'].mean())\n",
    "test['Age']=test['Age'].fillna(test['Age'].mean())\n",
    "\n",
    "train['Age'] = train['Age'].astype(int)\n",
    "test['Age']    = test['Age'].astype(int)\n",
    "\n",
    "train.loc[ train['Age'] <= 16, 'Age'] = 0\n",
    "train.loc[(train['Age'] > 16) & (train['Age'] <= 32), 'Age'] = 1\n",
    "train.loc[(train['Age'] > 32) & (train['Age'] <= 48), 'Age'] = 2\n",
    "train.loc[(train['Age'] > 48) & (train['Age'] <= 64), 'Age'] = 3\n",
    "train.loc[(train['Age'] > 64), 'Age'] = 4\n",
    "\n",
    "test.loc[ test['Age'] <= 16, 'Age'] = 0\n",
    "test.loc[(test['Age'] > 16) & (test['Age'] <= 32), 'Age'] = 1\n",
    "test.loc[(test['Age'] > 32) & (test['Age'] <= 48), 'Age'] = 2\n",
    "test.loc[(test['Age'] > 48) & (test['Age'] <= 64), 'Age'] = 3\n",
    "test.loc[(test['Age'] > 64), 'Age'] = 4\n",
    "\n",
    "\n",
    "#Sex\n",
    "sexes = sorted(test['Sex'].unique())\n",
    "genders_mapping = dict(zip(sexes, range(0, len(sexes) + 1)))\n",
    "test['Sex'] = test['Sex'].map(genders_mapping).astype(int)\n",
    "train['Sex'] = train['Sex'].map(genders_mapping).astype(int)\n",
    "\n",
    "Fare_Survival=pd.crosstab(train['Fare'],train['Survived'])\n",
    "print(Fare_Survival)\n",
    "Fare_Survival_pct=Fare_Survival.div(Fare_Survival.sum(1).astype(int),axis=0)\n",
    "Fare_Survival_pct=Fare_Survival_pct[[1,0]]\n",
    "%matplotlib inline\n",
    "Fare_Survival_pct[1].plot(kind='bar',stacked=True)\n",
    "\n",
    "#Aha, people who paid more had higher % of surviving\n"
   ]
  },
  {
   "cell_type": "code",
   "execution_count": 249,
   "metadata": {
    "collapsed": false,
    "scrolled": true
   },
   "outputs": [
    {
     "name": "stdout",
     "output_type": "stream",
     "text": [
      "0.674523007856\n",
      "0.682379349046\n",
      "0.682379349046\n"
     ]
    }
   ],
   "source": [
    "# Enugh of exploring, lets build models\n",
    "\n",
    "# if only Fare and age is considered, just to check, as we have only converted Fare and age categotical variable in to Numbers\n",
    "X_Train=train.drop(\"Survived\",axis=1)\n",
    "Y_Train=train[\"Survived\"]\n",
    "X_Test  = test.drop(\"PassengerId\",axis=1).copy()\n",
    "\n",
    "X_Train.drop([\"PassengerId\",\"Cabin\",'Parch','Name','Ticket'],axis=1,inplace=True)\n",
    "\n",
    "X_Train=X_Train[[\"Fare\",\"Age\",\"Sex\"]]\n",
    "\n",
    "X_Test=X_Test[[\"Fare\",\"Age\",\"Sex\"]]\n",
    "\n",
    "# X_Train=X_Train.reshape(-1,1)\n",
    "\n",
    "# Y_Train=Y_Train.reshape(-1,1)\n",
    "# X_Test=X_Test.reshape(-1,1)\n",
    "X_Test\n",
    "\n",
    "#Logistic Regression\n",
    "logreg = LogisticRegression()\n",
    "\n",
    "logreg.fit(X_Train, Y_Train.ravel())\n",
    "\n",
    "Y_pred = logreg.predict(X_Test)\n",
    "\n",
    "print(logreg.score(X_Train, Y_Train))\n",
    "\n",
    "\n",
    "#Support Vector Machines\n",
    "\n",
    "svc = SVC()\n",
    "\n",
    "svc.fit(X_Train, Y_Train.ravel())\n",
    "\n",
    "Y_pred_4 = svc.predict(X_Test)\n",
    "\n",
    "print(svc.score(X_Train, Y_Train))\n",
    "\n",
    "# grid_1 = { \"n_estimators\"      : [100],\n",
    "#               \"criterion\"         : [\"gini\", \"entropy\"],\n",
    "#               \"max_features\"      : ['sqrt','log2',0.2,0.5,0.8],\n",
    "#               \"max_depth\"         : [3,4,6,10],\n",
    "#               \"min_samples_split\" : [2, 5, 20,50] }\n",
    "# RF=RandomForestClassifier()\n",
    "# grid_search = sklearn.model_selection.GridSearchCV(RF, grid_1, n_jobs=-1, cv=5)\n",
    "# grid_search.fit(X_Train, Y_Train.ravel())\n",
    "# print(grid_search.best_params_)\n",
    "\n",
    "# Random Forests\n",
    "\n",
    "#random_forest = RandomForestClassifier(n_estimators=100)\n",
    "random_forest = RandomForestClassifier(n_estimators=100, criterion='gini', max_depth=3, max_features='sqrt', min_samples_split=2)\n",
    "\n",
    "random_forest.fit(X_Train, Y_Train)\n",
    "\n",
    "Y_pred_1 = random_forest.predict(X_Test)\n",
    "\n",
    "print(random_forest.score(X_Train, Y_Train))"
   ]
  }
 ],
 "metadata": {
  "anaconda-cloud": {},
  "kernelspec": {
   "display_name": "Python [conda root]",
   "language": "python",
   "name": "conda-root-py"
  },
  "language_info": {
   "codemirror_mode": {
    "name": "ipython",
    "version": 3
   },
   "file_extension": ".py",
   "mimetype": "text/x-python",
   "name": "python",
   "nbconvert_exporter": "python",
   "pygments_lexer": "ipython3",
   "version": "3.5.2"
  }
 },
 "nbformat": 4,
 "nbformat_minor": 1
}
