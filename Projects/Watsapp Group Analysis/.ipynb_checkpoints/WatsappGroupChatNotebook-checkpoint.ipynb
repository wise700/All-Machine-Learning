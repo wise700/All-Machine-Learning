{
 "cells": [
  {
   "cell_type": "code",
   "execution_count": 80,
   "metadata": {
    "collapsed": false
   },
   "outputs": [
    {
     "name": "stderr",
     "output_type": "stream",
     "text": [
      "b'Skipping line 2029: expected 1 fields, saw 2\\nSkipping line 4430: expected 1 fields, saw 2\\nSkipping line 5962: expected 1 fields, saw 2\\nSkipping line 5963: expected 1 fields, saw 2\\nSkipping line 5964: expected 1 fields, saw 2\\nSkipping line 5965: expected 1 fields, saw 2\\nSkipping line 5966: expected 1 fields, saw 2\\nSkipping line 5967: expected 1 fields, saw 2\\nSkipping line 5968: expected 1 fields, saw 2\\nSkipping line 5969: expected 1 fields, saw 2\\nSkipping line 5970: expected 1 fields, saw 2\\nSkipping line 5971: expected 1 fields, saw 2\\nSkipping line 5972: expected 1 fields, saw 2\\nSkipping line 5973: expected 1 fields, saw 2\\nSkipping line 5974: expected 1 fields, saw 2\\nSkipping line 46025: expected 1 fields, saw 2\\nSkipping line 46026: expected 1 fields, saw 2\\nSkipping line 46027: expected 1 fields, saw 2\\nSkipping line 46029: expected 1 fields, saw 2\\nSkipping line 46030: expected 1 fields, saw 2\\n'\n"
     ]
    },
    {
     "data": {
      "text/plain": [
       "Timestamp                     27/12/16, 4:38 PM \n",
       "Name                             Arun Bhadardwaj\n",
       "Message      Lol 🙏🏼🙏🏼 Beda Kesha Maryade hogatte\n",
       "Name: 1000, dtype: object"
      ]
     },
     "execution_count": 80,
     "metadata": {},
     "output_type": "execute_result"
    }
   ],
   "source": [
    "import pandas as pd\n",
    "\n",
    "df=pd.read_table(r'D:/Projects/Python/All-Machine-Learning\\Projects\\Watsapp Group Analysis\\WhatsApp Chat.txt',error_bad_lines=False)\n",
    "df.columns=[\"Raw\"]\n",
    "df_new=df['Raw'].str.split(': ', 1, expand=True)\n",
    "df_new.columns=['Time','Message']\n",
    "#df_new\n",
    "MsgTable=df_new['Time'].str.split('- ',1,expand=True)\n",
    "MsgTable.columns=['Timestamp','Name']\n",
    "MsgTable['Message']=df_new['Message']\n",
    "MsgTable.iloc[1000]"
   ]
  },
  {
   "cell_type": "code",
   "execution_count": 96,
   "metadata": {
    "collapsed": false
   },
   "outputs": [
    {
     "name": "stdout",
     "output_type": "stream",
     "text": [
      "A man threw a pot of boiling water above his head in -25 degree centigrade resulting in a lovely snow cloud\n"
     ]
    },
    {
     "ename": "AttributeError",
     "evalue": "'list' object has no attribute 'split'",
     "output_type": "error",
     "traceback": [
      "\u001b[0;31m---------------------------------------------------------------------------\u001b[0m",
      "\u001b[0;31mAttributeError\u001b[0m                            Traceback (most recent call last)",
      "\u001b[0;32m<ipython-input-96-f1d926484598>\u001b[0m in \u001b[0;36m<module>\u001b[0;34m()\u001b[0m\n\u001b[1;32m      1\u001b[0m \u001b[0mMsgList\u001b[0m \u001b[1;33m=\u001b[0m \u001b[0mMsgTable\u001b[0m\u001b[1;33m[\u001b[0m\u001b[1;34m'Message'\u001b[0m\u001b[1;33m]\u001b[0m\u001b[1;33m.\u001b[0m\u001b[0mtolist\u001b[0m\u001b[1;33m(\u001b[0m\u001b[1;33m)\u001b[0m\u001b[1;33m\u001b[0m\u001b[0m\n\u001b[1;32m      2\u001b[0m \u001b[0mprint\u001b[0m\u001b[1;33m(\u001b[0m\u001b[0mMsgList\u001b[0m\u001b[1;33m[\u001b[0m\u001b[1;36m200\u001b[0m\u001b[1;33m]\u001b[0m\u001b[1;33m)\u001b[0m\u001b[1;33m\u001b[0m\u001b[0m\n\u001b[0;32m----> 3\u001b[0;31m \u001b[0mWordList\u001b[0m\u001b[1;33m=\u001b[0m\u001b[0mMsgList\u001b[0m\u001b[1;33m.\u001b[0m\u001b[0msplit\u001b[0m\u001b[1;33m(\u001b[0m\u001b[1;33m)\u001b[0m\u001b[1;33m\u001b[0m\u001b[0m\n\u001b[0m\u001b[1;32m      4\u001b[0m \u001b[1;33m\u001b[0m\u001b[0m\n\u001b[1;32m      5\u001b[0m \u001b[1;32mfrom\u001b[0m \u001b[0mcollections\u001b[0m \u001b[1;32mimport\u001b[0m \u001b[0mCounter\u001b[0m\u001b[1;33m\u001b[0m\u001b[0m\n",
      "\u001b[0;31mAttributeError\u001b[0m: 'list' object has no attribute 'split'"
     ]
    }
   ],
   "source": [
    "MsgList = MsgTable['Message'].tolist()\n",
    "print(MsgList[200])\n",
    "WordList=MsgList.split()\n",
    "\n",
    "from collections import Counter\n",
    "df = pd.DataFrame.from_dict(dict(Counter(WordList)), orient='index').reset_index()\n",
    "df.columns =['Word','Count']\n",
    "df"
   ]
  }
 ],
 "metadata": {
  "anaconda-cloud": {},
  "kernelspec": {
   "display_name": "Python [conda root]",
   "language": "python",
   "name": "conda-root-py"
  },
  "language_info": {
   "codemirror_mode": {
    "name": "ipython",
    "version": 3
   },
   "file_extension": ".py",
   "mimetype": "text/x-python",
   "name": "python",
   "nbconvert_exporter": "python",
   "pygments_lexer": "ipython3",
   "version": "3.5.2"
  }
 },
 "nbformat": 4,
 "nbformat_minor": 1
}
