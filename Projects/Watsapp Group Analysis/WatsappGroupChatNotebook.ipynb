{
 "cells": [
  {
   "cell_type": "code",
   "execution_count": 2,
   "metadata": {
    "collapsed": false
   },
   "outputs": [
    {
     "name": "stderr",
     "output_type": "stream",
     "text": [
      "b'Skipping line 2029: expected 1 fields, saw 2\\nSkipping line 4430: expected 1 fields, saw 2\\nSkipping line 5962: expected 1 fields, saw 2\\nSkipping line 5963: expected 1 fields, saw 2\\nSkipping line 5964: expected 1 fields, saw 2\\nSkipping line 5965: expected 1 fields, saw 2\\nSkipping line 5966: expected 1 fields, saw 2\\nSkipping line 5967: expected 1 fields, saw 2\\nSkipping line 5968: expected 1 fields, saw 2\\nSkipping line 5969: expected 1 fields, saw 2\\nSkipping line 5970: expected 1 fields, saw 2\\nSkipping line 5971: expected 1 fields, saw 2\\nSkipping line 5972: expected 1 fields, saw 2\\nSkipping line 5973: expected 1 fields, saw 2\\nSkipping line 5974: expected 1 fields, saw 2\\nSkipping line 46025: expected 1 fields, saw 2\\nSkipping line 46026: expected 1 fields, saw 2\\nSkipping line 46027: expected 1 fields, saw 2\\nSkipping line 46029: expected 1 fields, saw 2\\nSkipping line 46030: expected 1 fields, saw 2\\n'\n"
     ]
    },
    {
     "data": {
      "text/plain": [
       "Timestamp                     27/12/16, 4:38 PM \n",
       "Name                             Arun Bhadardwaj\n",
       "Message      Lol 🙏🏼🙏🏼 Beda Kesha Maryade hogatte\n",
       "Name: 1000, dtype: object"
      ]
     },
     "execution_count": 2,
     "metadata": {},
     "output_type": "execute_result"
    }
   ],
   "source": [
    "import pandas as pd\n",
    "\n",
    "df=pd.read_table(r'D:/Projects/Python/All-Machine-Learning\\Projects\\Watsapp Group Analysis\\WhatsApp Chat.txt',error_bad_lines=False)\n",
    "df.columns=[\"Raw\"]\n",
    "df_new=df['Raw'].str.split(': ', 1, expand=True)\n",
    "df_new.columns=['Time','Message']\n",
    "#df_new\n",
    "MsgTable=df_new['Time'].str.split('- ',1,expand=True)\n",
    "MsgTable.columns=['Timestamp','Name']\n",
    "MsgTable['Message']=df_new['Message']\n",
    "MsgTable.iloc[1000]"
   ]
  },
  {
   "cell_type": "code",
   "execution_count": null,
   "metadata": {
    "collapsed": false
   },
   "outputs": [
    {
     "name": "stdout",
     "output_type": "stream",
     "text": [
      "['A man threw a pot of boiling water above his head in -25 degree centigrade resulting in a lovely snow cloud', '<Media omitted>']\n"
     ]
    },
    {
     "name": "stderr",
     "output_type": "stream",
     "text": [
      "C:\\Program Files\\Anaconda3\\lib\\site-packages\\ipykernel\\__main__.py:21: FutureWarning: sort(columns=....) is deprecated, use sort_values(by=.....)\n"
     ]
    }
   ],
   "source": [
    "import numpy as np\n",
    "from nltk.corpus import stopwords\n",
    "from nltk.tokenize import word_tokenize\n",
    "import matplotlib.pyplot as plt\n",
    "\n",
    "MsgTable['Message']=MsgTable['Message'].astype(str)\n",
    "MsgList = MsgTable['Message'].tolist()\n",
    "print(MsgList[200:202])\n",
    "\n",
    "stop_words = set(stopwords.words('english'))\n",
    "WordList=' '.join(MsgTable['Message']).lower().split()\n",
    "filtered_WordList = [w for w in WordList if not w in stop_words]\n",
    "\n",
    "\n",
    "from collections import Counter\n",
    "df = pd.DataFrame.from_dict(dict(Counter(filtered_WordList)), orient='index').reset_index()\n",
    "df.columns =['Word','Count']\n",
    "DropWords = ['','and','-','u','to','for','with','of','in','<omitted','image','<media','omitted>','it','none','i','is','will','the','you']\n",
    "df['Word'].replace(DropWords, np.nan, inplace=True)\n",
    "df.dropna(subset=['Word'], inplace=True)\n",
    "df.sort(['Count'],ascending=False,inplace=True)\n",
    "df.head()\n",
    "df.plot(x=\"Word\",y=\"Count\",kind=\"bar\")\n",
    "plt.show()\n"
   ]
  }
 ],
 "metadata": {
  "anaconda-cloud": {},
  "kernelspec": {
   "display_name": "Python [conda root]",
   "language": "python",
   "name": "conda-root-py"
  },
  "language_info": {
   "codemirror_mode": {
    "name": "ipython",
    "version": 3
   },
   "file_extension": ".py",
   "mimetype": "text/x-python",
   "name": "python",
   "nbconvert_exporter": "python",
   "pygments_lexer": "ipython3",
   "version": "3.5.2"
  }
 },
 "nbformat": 4,
 "nbformat_minor": 1
}
