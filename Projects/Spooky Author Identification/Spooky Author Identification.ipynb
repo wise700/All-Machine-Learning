{
 "cells": [
  {
   "cell_type": "code",
   "execution_count": 19,
   "metadata": {
    "collapsed": false
   },
   "outputs": [
    {
     "name": "stdout",
     "output_type": "stream",
     "text": [
      "[[ 0.  0.  0. ...,  0.  0.  0.]\n",
      " [ 0.  0.  0. ...,  0.  0.  0.]\n",
      " [ 0.  0.  0. ...,  0.  0.  0.]\n",
      " ..., \n",
      " [ 0.  0.  0. ...,  0.  0.  0.]\n",
      " [ 0.  0.  0. ...,  0.  0.  0.]\n",
      " [ 0.  0.  0. ...,  0.  0.  0.]]\n",
      "['marvellous' 'bay' 'chisel' ..., 'mr' 'perdita' 'raymond']\n",
      "# 'EAP':\n",
      "  . Most correlated unigrams:\n",
      ". perdita\n",
      ". raymond\n",
      "  . Most correlated bigrams:\n",
      ". chess player\n",
      ". said dupin\n",
      "['laws' 'naval' 'painfully' ..., 'street' 'gilman' 'old']\n",
      "# 'HPL':\n",
      "  . Most correlated unigrams:\n",
      ". gilman\n",
      ". old\n",
      "  . Most correlated bigrams:\n",
      ". new england\n",
      ". shunned house\n",
      "['sympathetic' 'decay' 'attract' ..., 'love' 'perdita' 'raymond']\n",
      "# 'MWS':\n",
      "  . Most correlated unigrams:\n",
      ". perdita\n",
      ". raymond\n",
      "  . Most correlated bigrams:\n",
      ". fellow creatures\n",
      ". lord raymond\n"
     ]
    },
    {
     "data": {
      "image/png": "[encoded data removed]",
      "text/plain": [
       "<matplotlib.figure.Figure at 0xd01d444e48>"
      ]
     },
     "metadata": {},
     "output_type": "display_data"
    }
   ],
   "source": [
    "import pandas as pd\n",
    "import numpy as np\n",
    "import matplotlib.pyplot as plt\n",
    "import seaborn as sns\n",
    "from sklearn.feature_extraction.text import TfidfVectorizer\n",
    "from sklearn.feature_selection import chi2\n",
    "%matplotlib inline\n",
    "\n",
    "#load the training and test datasets\n",
    "train=pd.read_csv(\"data/train.csv\")\n",
    "test=pd.read_csv(\"data/test.csv\")\n",
    "\n",
    "#Lets see the count of each author\n",
    "train.groupby('author').id.count().plot.bar()\n",
    "cc=train.groupby('author').count()\n",
    "\n",
    "sns.barplot(x=cc.index,y=cc.id)\n",
    "\n",
    "#some feature engineering\n",
    "train['authorid']=train['author'].factorize()[0]\n",
    "train_id = train[['author', 'authorid']].drop_duplicates().sort_values('authorid')\n",
    "author_to_id = dict(train_id.values)\n",
    "id_to_category = dict(train_id[['authorid', 'author']].values)\n",
    "\n",
    "#tfidf analyses\n",
    "tfidf=TfidfVectorizer(sublinear_tf=True,min_df=5,ngram_range=(1,2),stop_words='english')\n",
    "labels=train.authorid\n",
    "\n",
    "features=tfidf.fit_transform(train['text']).toarray()\n",
    "\n",
    "features.shape\n",
    "\n",
    "print(features)\n",
    "\n",
    "author_to_id\n",
    "\n",
    "N=2\n",
    "#\n",
    "for author,authorid in sorted(author_to_id.items()):\n",
    "    features_chi2 = chi2(features, labels == authorid)\n",
    "    indices = np.argsort(features_chi2[0])\n",
    "    feature_names = np.array(tfidf.get_feature_names())[indices]\n",
    "    print(feature_names)\n",
    "    unigrams = [v for v in feature_names if len(v.split(' ')) == 1]\n",
    "    bigrams = [v for v in feature_names if len(v.split(' ')) == 2]\n",
    "    print(\"# '{}':\".format(author))\n",
    "    print(\"  . Most correlated unigrams:\\n. {}\".format('\\n. '.join(unigrams[-N:])))\n",
    "    print(\"  . Most correlated bigrams:\\n. {}\".format('\\n. '.join(bigrams[-N:])))\n",
    "    \n",
    "\n"
   ]
  }
 ],
 "metadata": {
  "anaconda-cloud": {},
  "kernelspec": {
   "display_name": "Python [conda root]",
   "language": "python",
   "name": "conda-root-py"
  },
  "language_info": {
   "codemirror_mode": {
    "name": "ipython",
    "version": 3
   },
   "file_extension": ".py",
   "mimetype": "text/x-python",
   "name": "python",
   "nbconvert_exporter": "python",
   "pygments_lexer": "ipython3",
   "version": "3.5.2"
  }
 },
 "nbformat": 4,
 "nbformat_minor": 1
}
